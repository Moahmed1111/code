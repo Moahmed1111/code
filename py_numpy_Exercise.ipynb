{
  "nbformat": 4,
  "nbformat_minor": 0,
  "metadata": {
    "colab": {
      "provenance": []
    },
    "kernelspec": {
      "name": "python3",
      "display_name": "Python 3"
    },
    "language_info": {
      "name": "python"
    }
  },
  "cells": [
    {
      "cell_type": "markdown",
      "source": [
        "1: Create a 4X2 integer array and Prints its attributes\n",
        "Note: The element must be a type of unsigned int16. And print the following\n",
        "Attributes: –\n",
        " The shape of an array.\n",
        " Array dimensions.\n",
        " The Length of each element of the array in bytes."
      ],
      "metadata": {
        "id": "NBD6iUuqY2oS"
      }
    },
    {
      "cell_type": "code",
      "execution_count": 4,
      "metadata": {
        "colab": {
          "base_uri": "https://localhost:8080/"
        },
        "id": "1BPSkicVWyKb",
        "outputId": "a4048e59-bf30-4ced-dbc4-785305c187fe"
      },
      "outputs": [
        {
          "output_type": "stream",
          "name": "stdout",
          "text": [
            "[[0 0]\n",
            " [0 0]\n",
            " [0 0]\n",
            " [1 0]]\n",
            " Array Shape is:  (4, 2)\n",
            " Array dimensions:  2\n",
            " Length of each element of array in bytes is  2\n"
          ]
        }
      ],
      "source": [
        "import numpy\n",
        "\n",
        "Array = numpy.empty([4,2], dtype = numpy.int16) \n",
        "print(Array)\n",
        "print(\" Array Shape is: \", Array.shape)\n",
        "print(\" Array dimensions: \",Array.ndim)\n",
        "print(\" Length of each element of array in bytes is \",Array.itemsize)"
      ]
    },
    {
      "cell_type": "markdown",
      "source": [
        "Create a 5X2 integer array from a range between 100\n",
        "to 200 such that the difference between each element is 10"
      ],
      "metadata": {
        "id": "NmG67CUUZp3n"
      }
    },
    {
      "cell_type": "code",
      "source": [
        "import numpy\n",
        "Array1 = numpy.arange(100, 200, 10)\n",
        "Array2 = Array1.reshape(5,2)\n",
        "print (Array2)"
      ],
      "metadata": {
        "colab": {
          "base_uri": "https://localhost:8080/"
        },
        "id": "BXY4u7vKXpoc",
        "outputId": "8d958c41-8789-49eb-f901-bb8e5e617493"
      },
      "execution_count": 6,
      "outputs": [
        {
          "output_type": "stream",
          "name": "stdout",
          "text": [
            "[[100 110]\n",
            " [120 130]\n",
            " [140 150]\n",
            " [160 170]\n",
            " [180 190]]\n"
          ]
        }
      ]
    },
    {
      "cell_type": "markdown",
      "source": [
        "Exercise 3: Following is the provided numPy array. Return array of\n",
        "items by taking the third column from all rows\n",
        "\n",
        "sampleArray = numpy.array([[11 ,22, 33], [44, 55, 66], [77, 88, 99]])"
      ],
      "metadata": {
        "id": "1AXsSw6LZ29_"
      }
    },
    {
      "cell_type": "code",
      "source": [
        "import numpy\n",
        "\n",
        "Array1= numpy.array([[11 ,22, 33], [44, 55, 66], [77, 88, 99]]) \n",
        "print(Array1)\n",
        "Array2 = Array1[...,2]\n",
        "print('the third colum', Array2)\n"
      ],
      "metadata": {
        "colab": {
          "base_uri": "https://localhost:8080/"
        },
        "id": "xNckTdeYZZQD",
        "outputId": "5c1c0ecc-d484-4f01-a596-2ef955a31c5b"
      },
      "execution_count": 13,
      "outputs": [
        {
          "output_type": "stream",
          "name": "stdout",
          "text": [
            "[[11 22 33]\n",
            " [44 55 66]\n",
            " [77 88 99]]\n",
            "the third colum [33 66 99]\n"
          ]
        }
      ]
    },
    {
      "cell_type": "code",
      "source": [],
      "metadata": {
        "id": "Fdw0hiIXaOav"
      },
      "execution_count": null,
      "outputs": []
    }
  ]
}