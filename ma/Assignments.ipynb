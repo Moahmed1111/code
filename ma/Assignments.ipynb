{
  "nbformat": 4,
  "nbformat_minor": 0,
  "metadata": {
    "colab": {
      "provenance": [],
      "collapsed_sections": []
    },
    "kernelspec": {
      "name": "python3",
      "display_name": "Python 3"
    },
    "language_info": {
      "name": "python"
    }
  },
  "cells": [
    {
      "cell_type": "code",
      "execution_count": 1,
      "metadata": {
        "colab": {
          "base_uri": "https://localhost:8080/"
        },
        "id": "oU1Q06TZ8lG-",
        "outputId": "3cedd82b-fe71-4b50-8fee-d118420303b8"
      },
      "outputs": [
        {
          "output_type": "stream",
          "name": "stdout",
          "text": [
            "\n",
            "\n",
            "1\n",
            "\n",
            "22\n",
            "\n",
            "333\n",
            "\n",
            "4444\n",
            "\n",
            "55555\n",
            "\n"
          ]
        }
      ],
      "source": [
        "for i in range(6):\n",
        "    for j in range(i):\n",
        "        print(i,end=\"\")\n",
        "    print(\"\\n\")"
      ]
    },
    {
      "cell_type": "code",
      "source": [
        "def func1():\n",
        " numbers_x=[10,20,30,40,10]\n",
        " if numbers_x[0] == numbers_x[-1]:\n",
        "    print(\"true\")\n",
        " else:\n",
        "    print(\"false\") \n",
        "def func2():\n",
        " numbers_y=[75,65,35,75,30]\n",
        " if numbers_y[0] == numbers_y[-1]:\n",
        "    print(\"true\")\n",
        " else:\n",
        "    print(\"false\")     \n",
        "func1()\n",
        "func2()"
      ],
      "metadata": {
        "colab": {
          "base_uri": "https://localhost:8080/"
        },
        "id": "ecTSNL738xY7",
        "outputId": "875aff6c-2283-4779-f527-f61d106968dd"
      },
      "execution_count": 2,
      "outputs": [
        {
          "output_type": "stream",
          "name": "stdout",
          "text": [
            "true\n",
            "false\n"
          ]
        }
      ]
    },
    {
      "cell_type": "code",
      "source": [
        "n=int(input())\n",
        "palind_num=[]\n",
        "for i in range(0,n):\n",
        "  x=int(input())\n",
        "  palind_num.append(x)\n",
        "rev_num=palind_num\n",
        "rev_num.reverse()\n",
        "print(rev_num)\n",
        "if palind_num == rev_num:\n",
        "  print(\"true\")\n",
        "else:\n",
        "  print(\"false\") "
      ],
      "metadata": {
        "colab": {
          "base_uri": "https://localhost:8080/"
        },
        "id": "R-H1lTZQ83h4",
        "outputId": "71e8db9c-7b3f-4f4a-f918-125a9dccd433"
      },
      "execution_count": 5,
      "outputs": [
        {
          "output_type": "stream",
          "name": "stdout",
          "text": [
            "3\n",
            "5\n",
            "4\n",
            "5\n",
            "[5, 4, 5]\n",
            "true\n"
          ]
        }
      ]
    },
    {
      "cell_type": "code",
      "source": [
        "l=[5,3,10,20,4,29]\n",
        "l2=[]\n",
        "for i in l:\n",
        "  if i%5==0:\n",
        "    l2.append(i)\n",
        "print(l2)"
      ],
      "metadata": {
        "colab": {
          "base_uri": "https://localhost:8080/"
        },
        "id": "vHFuaLZs9JPT",
        "outputId": "b1ff4d9e-4cc2-439d-a23f-209e32157bb1"
      },
      "execution_count": 4,
      "outputs": [
        {
          "output_type": "stream",
          "name": "stdout",
          "text": [
            "[5, 10, 20]\n"
          ]
        }
      ]
    },
    {
      "cell_type": "code",
      "source": [
        "str_x= \"Emma is good developer . Emma is a writer \"\n",
        "substr=\"Emma\"\n",
        "count= str_x.count(substr)\n",
        "print(count)"
      ],
      "metadata": {
        "colab": {
          "base_uri": "https://localhost:8080/"
        },
        "id": "jEk5TgK78--V",
        "outputId": "802242e6-b438-4ccb-9463-9d6cb8d304e7"
      },
      "execution_count": 6,
      "outputs": [
        {
          "output_type": "stream",
          "name": "stdout",
          "text": [
            "2\n"
          ]
        }
      ]
    }
  ]
}